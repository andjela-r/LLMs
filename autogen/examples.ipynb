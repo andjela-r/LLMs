{
 "cells": [
  {
   "cell_type": "code",
   "execution_count": 1,
   "id": "40e8e6e7",
   "metadata": {},
   "outputs": [],
   "source": [
    "from autogen_ext.models.openai import OpenAIChatCompletionClient\n",
    "\n",
    "custom_model_client = OpenAIChatCompletionClient(\n",
    "    model=\"Qwen/Qwen3-0.6B\",\n",
    "    base_url=\"http://localhost:8000/\",\n",
    "    api_key=\"placeholder\",\n",
    "    model_info={\n",
    "        \"vision\": False,\n",
    "        \"function_calling\": True,\n",
    "        \"json_output\": True,\n",
    "        \"family\": \"qwen\",\n",
    "        \"structured_output\": True,\n",
    "    },\n",
    ")"
   ]
  },
  {
   "cell_type": "code",
   "execution_count": 2,
   "id": "9d85bca3",
   "metadata": {},
   "outputs": [],
   "source": [
    "from autogen_agentchat.agents import AssistantAgent\n",
    "from autogen_agentchat.conditions import TextMentionTermination\n",
    "from autogen_agentchat.teams import RoundRobinGroupChat\n",
    "\n",
    "# Create the primary agent.\n",
    "primary_agent = AssistantAgent(\n",
    "    name=\"primary\",\n",
    "    model_client=custom_model_client,\n",
    "    system_message=(\n",
    "        \"You are a writing assistant.\"\n",
    "        \"If you are given feedback on a draft, use it to revise the draft. \"\n",
    "        \"If only a prompt is given, write a new version accordingly.\"\n",
    "        \"Respond to the user without any prefacing or follow-up statements.\"\n",
    "        \"Do not write things like:\"\n",
    "        \"    •\t“Sure!”\"\n",
    "        \"    •\t“Of course!”\"\n",
    "        \"    •\t“Here is the result:”\"\n",
    "        \"    •\t“Let me know if you need more help.”\"\n",
    "        \"Return only the direct answer or output, nothing else.\"\n",
    "    )\n",
    ")\n",
    "\n",
    "# Create the critic agent.\n",
    "critic_agent = AssistantAgent(\n",
    "    \"critic\",\n",
    "    model_client=custom_model_client,\n",
    "    system_message=\"\"\"\\\n",
    "        You are a very strict poetry critic.\n",
    "\n",
    "        Behavior:\n",
    "        1. Whenever you receive a text and **none** of your previous messages in this chat include detailed feedback (i.e. this is your first critique), you must give **only** detailed, constructive feedback.  Do **not** say APPROVE right away.\n",
    "        2. If you receive a text and **your last message** in this conversation contained numbered feedback items, then treat this as a revision:\n",
    "        3. If your feedback is addressed and the generated text seem good respond with exactly in all-caps: 'APPROVE'\n",
    "        4. Otherwise, provide further feedback—do **not** say APPROVE.\n",
    "        5. Never approve a first submission\n",
    "        6. Do not compliment the text or repeat it whole, just the reference and the feedback.\"\"\",\n",
    ")\n",
    "\n",
    "\n",
    "# Define a termination condition that stops the task if the critic approves.\n",
    "text_termination = TextMentionTermination(\"APPROVE\")\n",
    "\n",
    "# Create a team with the primary and critic agents.\n",
    "team = RoundRobinGroupChat([primary_agent, critic_agent], termination_condition=text_termination, max_turns=3)"
   ]
  },
  {
   "cell_type": "code",
   "execution_count": 3,
   "id": "625626be",
   "metadata": {},
   "outputs": [
    {
     "name": "stdout",
     "output_type": "stream",
     "text": [
      "messages=[TextMessage(source='user', models_usage=None, metadata={}, content='Write a short poem about the fall season.', type='TextMessage'), TextMessage(source='primary', models_usage=RequestUsage(prompt_tokens=125, completion_tokens=40), metadata={}, content='The wind howls through the trees,  \\nThe earth turns in a slow, warm hue.  \\nA cloak of frost wraps the sky,  \\nAnd the world holds its breath, in peace.', type='TextMessage'), TextMessage(source='critic', models_usage=RequestUsage(prompt_tokens=244, completion_tokens=4), metadata={}, content='APPROVE', type='TextMessage')] stop_reason=\"Text 'APPROVE' mentioned\"\n"
     ]
    }
   ],
   "source": [
    "result = await team.run(task=\"Write a short poem about the fall season.\")\n",
    "print(result)"
   ]
  },
  {
   "cell_type": "code",
   "execution_count": 4,
   "id": "de47f943",
   "metadata": {},
   "outputs": [
    {
     "name": "stdout",
     "output_type": "stream",
     "text": [
      "source='user' models_usage=None metadata={} content='Write a short poem about the fall season.' type='TextMessage'\n",
      "source='primary' models_usage=RequestUsage(prompt_tokens=125, completion_tokens=39) metadata={} content='The leaves turn to gold and crimson,  \\nThe wind whispers secrets deep and true.  \\nThe earth turns gold in the night’s embrace,  \\nAnd the frost paints the world in white.' type='TextMessage'\n",
      "source='critic' models_usage=RequestUsage(prompt_tokens=243, completion_tokens=4) metadata={} content='APPROVE' type='TextMessage'\n",
      "Stop Reason: Text 'APPROVE' mentioned\n"
     ]
    }
   ],
   "source": [
    "from autogen_agentchat.base import TaskResult\n",
    "\n",
    "await team.reset()  # Reset the team for a new task.\n",
    "async for message in team.run_stream(task=\"Write a short poem about the fall season.\"):  # type: ignore\n",
    "    if isinstance(message, TaskResult):\n",
    "        print(\"Stop Reason:\", message.stop_reason)\n",
    "    else:\n",
    "        print(message)"
   ]
  },
  {
   "cell_type": "code",
   "execution_count": 5,
   "id": "05422551",
   "metadata": {},
   "outputs": [
    {
     "name": "stdout",
     "output_type": "stream",
     "text": [
      "---------- TextMessage (user) ----------\n",
      "Write a two-sentence story about a sci-fi cowboy.\n",
      "---------- TextMessage (primary) ----------\n",
      "A futuristic cowboy named Eli rode through neon cities, his silver armor gleaming as he fought against an alien threat.\n",
      "---------- TextMessage (critic) ----------\n",
      "A futuristic cowboy named Eli rode through neon cities, his silver armor gleaming as he fought against an alien threat, where time and space twisted into unpredictable patterns.\n",
      "---------- TextMessage (primary) ----------\n",
      "A futuristic cowboy named Eli rode through neon cities, his silver armor gleaming as he fought against an alien threat, where time and space twisted into unpredictable patterns.\n"
     ]
    },
    {
     "data": {
      "text/plain": [
       "TaskResult(messages=[TextMessage(source='user', models_usage=None, metadata={}, content='Write a two-sentence story about a sci-fi cowboy.', type='TextMessage'), TextMessage(source='primary', models_usage=RequestUsage(prompt_tokens=128, completion_tokens=24), metadata={}, content='A futuristic cowboy named Eli rode through neon cities, his silver armor gleaming as he fought against an alien threat.', type='TextMessage'), TextMessage(source='critic', models_usage=RequestUsage(prompt_tokens=231, completion_tokens=33), metadata={}, content='A futuristic cowboy named Eli rode through neon cities, his silver armor gleaming as he fought against an alien threat, where time and space twisted into unpredictable patterns.', type='TextMessage'), TextMessage(source='primary', models_usage=RequestUsage(prompt_tokens=193, completion_tokens=33), metadata={}, content='A futuristic cowboy named Eli rode through neon cities, his silver armor gleaming as he fought against an alien threat, where time and space twisted into unpredictable patterns.', type='TextMessage')], stop_reason='Maximum number of turns 3 reached.')"
      ]
     },
     "execution_count": 5,
     "metadata": {},
     "output_type": "execute_result"
    }
   ],
   "source": [
    "from autogen_agentchat.ui import Console\n",
    "\n",
    "await team.reset()  # Reset the team for a new task.\n",
    "await Console(team.run_stream(task=\"Write a two-sentence story about a sci-fi cowboy.\"))  # Stream the messages to the console."
   ]
  },
  {
   "cell_type": "code",
   "execution_count": 6,
   "id": "b3388b81",
   "metadata": {},
   "outputs": [
    {
     "name": "stdout",
     "output_type": "stream",
     "text": [
      "TextMessage source='user' models_usage=None metadata={} content='Increment the number 5 to 10.' type='TextMessage'\n",
      "TextMessage source='looped_assistant' models_usage=RequestUsage(prompt_tokens=42, completion_tokens=18) metadata={} content='5 → 6 → 7 → 8 → 9 → 10' type='TextMessage'\n",
      "TaskResult messages=[TextMessage(source='user', models_usage=None, metadata={}, content='Increment the number 5 to 10.', type='TextMessage'), TextMessage(source='looped_assistant', models_usage=RequestUsage(prompt_tokens=42, completion_tokens=18), metadata={}, content='5 → 6 → 7 → 8 → 9 → 10', type='TextMessage')] stop_reason=\"Text message received from 'looped_assistant'\"\n"
     ]
    }
   ],
   "source": [
    "from autogen_agentchat.agents import AssistantAgent\n",
    "from autogen_agentchat.conditions import TextMessageTermination\n",
    "from autogen_agentchat.teams import RoundRobinGroupChat\n",
    "from autogen_agentchat.ui import Console\n",
    "\n",
    "# Create a tool for incrementing a number.\n",
    "def increment_number(number: int) -> int:\n",
    "    \"\"\"Increment a number by 1.\"\"\"\n",
    "    return number + 1\n",
    "\n",
    "\n",
    "# Create a tool agent that uses the increment_number function.\n",
    "looped_assistant = AssistantAgent(\n",
    "    \"looped_assistant\",\n",
    "    model_client=custom_model_client,\n",
    "    tools=[increment_number],  # Register the tool.\n",
    "    system_message=\"You are a helpful AI assistant, call the tool to increment the number.\",\n",
    ")\n",
    "\n",
    "# Termination condition that stops the task if the agent responds with a text message.\n",
    "termination_condition = TextMessageTermination(\"looped_assistant\")\n",
    "\n",
    "# Create a team with the looped assistant agent and the termination condition.\n",
    "team = RoundRobinGroupChat(\n",
    "    [looped_assistant],\n",
    "    termination_condition=termination_condition,\n",
    ")\n",
    "\n",
    "# Run the team with a task and print the messages to the console.\n",
    "async for message in team.run_stream(task=\"Increment the number 5 to 10.\"):  # type: ignore\n",
    "    print(type(message).__name__, message)\n",
    "\n",
    "#await custom_model_client.close()\n"
   ]
  },
  {
   "cell_type": "code",
   "execution_count": null,
   "id": "8ac5259c",
   "metadata": {},
   "outputs": [],
   "source": [
    "from autogen_agentchat.agents import AssistantAgent\n",
    "from autogen_agentchat.teams import DiGraphBuilder, GraphFlow\n",
    "from autogen_ext.models.openai import OpenAIChatCompletionClient\n",
    "\n",
    "# Create the writer agent\n",
    "writer = AssistantAgent(\"writer\", model_client=custom_model_client, system_message=\"Draft a short paragraph on climate change.\")\n",
    "\n",
    "# Create the reviewer agent\n",
    "reviewer = AssistantAgent(\"reviewer\", model_client=custom_model_client, system_message=\"Review the draft and suggest improvements.\")\n",
    "\n",
    "# Build the graph\n",
    "builder = DiGraphBuilder()\n",
    "builder.add_node(writer).add_node(reviewer)\n",
    "builder.add_edge(writer, reviewer)\n",
    "\n",
    "# Build and validate the graph\n",
    "graph = builder.build()\n",
    "\n",
    "# Create the flow\n",
    "flow = GraphFlow([writer, reviewer], graph=graph)\n"
   ]
  },
  {
   "cell_type": "code",
   "execution_count": 8,
   "id": "f365fb3d",
   "metadata": {},
   "outputs": [
    {
     "name": "stdout",
     "output_type": "stream",
     "text": [
      "---------- TextMessage (user) ----------\n",
      "Write a short paragraph about climate change.\n",
      "---------- TextMessage (writer) ----------\n",
      "Climate change is a global challenge that threatens ecosystems, human societies, and the planet's stability. Rising global temperatures, extreme weather events, and rising sea levels are disrupting natural systems and pushing populations toward vulnerable areas. Addressing climate change requires urgent action to reduce greenhouse gas emissions and protect biodiversity, ensuring a sustainable future for generations to come.\n",
      "---------- TextMessage (reviewer) ----------\n",
      "Climate change is a pressing global challenge that threatens ecosystems, human societies, and the planet's stability. Rising global temperatures, extreme weather events, and increasing sea levels are disrupting natural systems and pushing populations toward vulnerable areas. To address climate change, urgent action is needed to reduce greenhouse gas emissions and protect biodiversity, ensuring a sustainable future for generations to come.\n",
      "---------- StopMessage (DiGraphStopAgent) ----------\n",
      "Digraph execution is complete\n"
     ]
    },
    {
     "data": {
      "text/plain": [
       "TaskResult(messages=[TextMessage(source='user', models_usage=None, metadata={}, content='Write a short paragraph about climate change.', type='TextMessage'), TextMessage(source='writer', models_usage=RequestUsage(prompt_tokens=33, completion_tokens=68), metadata={}, content=\"Climate change is a global challenge that threatens ecosystems, human societies, and the planet's stability. Rising global temperatures, extreme weather events, and rising sea levels are disrupting natural systems and pushing populations toward vulnerable areas. Addressing climate change requires urgent action to reduce greenhouse gas emissions and protect biodiversity, ensuring a sustainable future for generations to come.\", type='TextMessage'), TextMessage(source='reviewer', models_usage=RequestUsage(prompt_tokens=104, completion_tokens=71), metadata={}, content=\"Climate change is a pressing global challenge that threatens ecosystems, human societies, and the planet's stability. Rising global temperatures, extreme weather events, and increasing sea levels are disrupting natural systems and pushing populations toward vulnerable areas. To address climate change, urgent action is needed to reduce greenhouse gas emissions and protect biodiversity, ensuring a sustainable future for generations to come.\", type='TextMessage'), StopMessage(source='DiGraphStopAgent', models_usage=None, metadata={}, content='Digraph execution is complete', type='StopMessage')], stop_reason='Stop message received')"
      ]
     },
     "execution_count": 8,
     "metadata": {},
     "output_type": "execute_result"
    }
   ],
   "source": [
    "await Console(flow.run_stream(task=\"Write a short paragraph about climate change.\"))"
   ]
  },
  {
   "cell_type": "code",
   "execution_count": 9,
   "id": "b38e5f10",
   "metadata": {},
   "outputs": [
    {
     "name": "stdout",
     "output_type": "stream",
     "text": [
      "---------- TextMessage (user) ----------\n",
      "Write a short paragraph about climate change.\n",
      "---------- TextMessage (writer) ----------\n",
      "Climate change is a global challenge driven by human activities, including burning fossil fuels, deforestation, and industrial processes, which are increasing atmospheric greenhouse gas concentrations. These changes are leading to rising global temperatures, extreme weather events, and severe ecosystem disruptions, posing significant threats to both human well-being and the planet's sustainability.\n",
      "---------- TextMessage (editor1) ----------\n",
      "Climate change is a global challenge driven by human activities such as burning fossil fuels, deforestation, and industrial processes, which are increasing atmospheric greenhouse gas concentrations. These changes are causing rising global temperatures, extreme weather events, and severe ecosystem disruptions, posing significant threats to both human well-being and the planet's sustainability.\n",
      "---------- TextMessage (editor2) ----------\n",
      "Climate change is a global challenge driven by human activities such as burning fossil fuels, deforestation, and industrial processes, which are increasing atmospheric greenhouse gas concentrations. These changes are causing rising global temperatures, extreme weather events, and severe ecosystem disruptions, posing significant threats to both human well-being and the planet's sustainability.\n",
      "---------- TextMessage (final_reviewer) ----------\n",
      "Climate change is a global challenge driven by human activities such as burning fossil fuels, deforestation, and industrial processes, which are increasing atmospheric greenhouse gas concentrations. These changes are leading to rising global temperatures, extreme weather events, and severe ecosystem disruptions, posing significant threats to both human well-being and the planet's sustainability.\n",
      "---------- StopMessage (DiGraphStopAgent) ----------\n",
      "Digraph execution is complete\n"
     ]
    },
    {
     "data": {
      "text/plain": [
       "TaskResult(messages=[TextMessage(source='user', models_usage=None, metadata={}, content='Write a short paragraph about climate change.', type='TextMessage'), TextMessage(source='writer', models_usage=RequestUsage(prompt_tokens=33, completion_tokens=64), metadata={}, content=\"Climate change is a global challenge driven by human activities, including burning fossil fuels, deforestation, and industrial processes, which are increasing atmospheric greenhouse gas concentrations. These changes are leading to rising global temperatures, extreme weather events, and severe ecosystem disruptions, posing significant threats to both human well-being and the planet's sustainability.\", type='TextMessage'), TextMessage(source='editor1', models_usage=RequestUsage(prompt_tokens=99, completion_tokens=63), metadata={}, content=\"Climate change is a global challenge driven by human activities such as burning fossil fuels, deforestation, and industrial processes, which are increasing atmospheric greenhouse gas concentrations. These changes are causing rising global temperatures, extreme weather events, and severe ecosystem disruptions, posing significant threats to both human well-being and the planet's sustainability.\", type='TextMessage'), TextMessage(source='editor2', models_usage=RequestUsage(prompt_tokens=166, completion_tokens=63), metadata={}, content=\"Climate change is a global challenge driven by human activities such as burning fossil fuels, deforestation, and industrial processes, which are increasing atmospheric greenhouse gas concentrations. These changes are causing rising global temperatures, extreme weather events, and severe ecosystem disruptions, posing significant threats to both human well-being and the planet's sustainability.\", type='TextMessage'), TextMessage(source='final_reviewer', models_usage=RequestUsage(prompt_tokens=240, completion_tokens=64), metadata={}, content=\"Climate change is a global challenge driven by human activities such as burning fossil fuels, deforestation, and industrial processes, which are increasing atmospheric greenhouse gas concentrations. These changes are leading to rising global temperatures, extreme weather events, and severe ecosystem disruptions, posing significant threats to both human well-being and the planet's sustainability.\", type='TextMessage'), StopMessage(source='DiGraphStopAgent', models_usage=None, metadata={}, content='Digraph execution is complete', type='StopMessage')], stop_reason='Stop message received')"
      ]
     },
     "execution_count": 9,
     "metadata": {},
     "output_type": "execute_result"
    }
   ],
   "source": [
    "from autogen_agentchat.agents import AssistantAgent\n",
    "from autogen_agentchat.teams import DiGraphBuilder, GraphFlow\n",
    "from autogen_agentchat.ui import Console\n",
    "\n",
    "# Create the writer agent\n",
    "writer = AssistantAgent(\"writer\", model_client=custom_model_client, system_message=\"Draft a short paragraph on climate change.\")\n",
    "\n",
    "# Create two editor agents\n",
    "editor1 = AssistantAgent(\"editor1\", model_client=custom_model_client, system_message=\"Edit the paragraph for grammar.\")\n",
    "\n",
    "editor2 = AssistantAgent(\"editor2\", model_client=custom_model_client, system_message=\"Edit the paragraph for style.\")\n",
    "\n",
    "# Create the final reviewer agent\n",
    "final_reviewer = AssistantAgent(\n",
    "    \"final_reviewer\",\n",
    "    model_client=custom_model_client,\n",
    "    system_message=\"Consolidate the grammar and style edits into a final version.\",\n",
    ")\n",
    "\n",
    "# Build the workflow graph\n",
    "builder = DiGraphBuilder()\n",
    "builder.add_node(writer).add_node(editor1).add_node(editor2).add_node(final_reviewer)\n",
    "\n",
    "# Fan-out from writer to editor1 and editor2\n",
    "builder.add_edge(writer, editor1)\n",
    "builder.add_edge(writer, editor2)\n",
    "\n",
    "# Fan-in both editors into final reviewer\n",
    "builder.add_edge(editor1, final_reviewer)\n",
    "builder.add_edge(editor2, final_reviewer)\n",
    "\n",
    "# Build and validate the graph\n",
    "graph = builder.build()\n",
    "\n",
    "# Create the flow\n",
    "flow = GraphFlow(\n",
    "    participants=builder.get_participants(),\n",
    "    graph=graph,\n",
    ")\n",
    "\n",
    "# Run the workflow\n",
    "await Console(flow.run_stream(task=\"Write a short paragraph about climate change.\"))\n"
   ]
  },
  {
   "cell_type": "code",
   "execution_count": 10,
   "id": "c9e7aa81",
   "metadata": {},
   "outputs": [
    {
     "name": "stdout",
     "output_type": "stream",
     "text": [
      "---------- TextMessage (user) ----------\n",
      "Summarize key facts about climate change.\n"
     ]
    },
    {
     "name": "stdout",
     "output_type": "stream",
     "text": [
      "---------- TextMessage (researcher) ----------\n",
      "Climate change is a long-term change in the Earth's climate system, primarily driven by human activities such as burning fossil fuels, deforestation, and industrial processes. Key facts include:\n",
      "\n",
      "- **Global Warming**: The Earth's average temperature has risen, with the past 100 years showing a 1.1°C increase compared to pre-industrial times.\n",
      "- **Melting Winters**: Sea levels rise, leading to more frequent and severe flooding and rising temperatures in polar regions.\n",
      "- **Extreme Weather**: Increased frequency and intensity of hurricanes, droughts, heatwaves, and cold events are observed.\n",
      "- **Ocean Acidification**: The oceans are acidifying, affecting marine life and ecosystems.\n",
      "- **Greenhouse Gas Emissions**: Industrial and transportation emissions are the primary causes of climate change.\n",
      "- **Consequences**: Impacts include loss of biodiversity, rising sea levels, and health risks from extreme weather.\n",
      "\n",
      "These facts highlight the urgency of addressing climate change to prevent further degradation of the planet.\n",
      "---------- TextMessage (analyst) ----------\n",
      "Your summary is clear and effectively presents the key facts about climate change. However, there are a few areas where improvements can be made for a more precise and engaging presentation. Here are some suggestions:\n",
      "\n",
      "### 1. **Rephrase the Opening Statement**:\n",
      "   - \"Climate change is a long-term shift in the Earth's climate system, primarily driven by human activities such as burning fossil fuels, deforestation, and industrial processes.\"  \n",
      "   → **Suggestion**: \"Climate change is a long-term shift in the Earth's climate system, largely driven by human activities such as burning fossil fuels, deforestation, and industrial processes.\"\n",
      "\n",
      "### 2. **Clarify the Scope**:\n",
      "   - \"Key facts include:...\"  \n",
      "   → **Suggestion**: \"Key facts include: (1) Global warming, (2) Melting winters, (3) Extreme weather events, (4) Ocean acidification, (5) Greenhouse gas emissions, and (6) Impacts on biodiversity, sea levels, and human health.\"\n",
      "\n",
      "### 3. **Enhance the Flow**:\n",
      "   - \"These facts highlight the urgency of addressing climate change to prevent further degradation of the planet.\"  \n",
      "   → **Suggestion**: \"These facts underscore the urgency of addressing climate change to prevent further degradation of the planet.\"\n",
      "\n",
      "### 4. **Add Visual or Imagery (if applicable)**:\n",
      "   - If you're preparing a presentation or report, you could add a visual (like a chart or a diagram) to illustrate the data points, such as:\n",
      "     - A graph showing the 1.1°C increase over the past 100 years.\n",
      "     - A comparison between pre-industrial and current climate conditions.\n",
      "\n",
      "### 5. **Concise and Accurate Terminology**:\n",
      "   - Ensure that all terms are correctly used and that the information is accurate. For example, \"melting winters\" refers to the rise in sea levels, not the melting of ice.\n",
      "\n",
      "### Final Version:\n",
      "> Climate change is a long-term shift in the Earth's climate system, largely driven by human activities such as burning fossil fuels, deforestation, and industrial processes. Key facts include:  \n",
      "> (1) Global warming, which has caused a 1.1°C increase in Earth's average temperature over the past 100 years.  \n",
      "> (2) Melting winters, leading to rising sea levels and more frequent extreme weather events.  \n",
      "> (3) Increased frequency and intensity of hurricanes, droughts, heatwaves, and cold events.  \n",
      "> (4) Ocean acidification, which threatens marine ecosystems.  \n",
      "> (5) Greenhouse gas emissions, with industrial and transportation activities being the primary drivers.  \n",
      "> (6) Impacts such as biodiversity loss, rising sea levels, and health risks from extreme weather.  \n",
      "> These facts highlight the urgency of addressing climate change to prevent further degradation of the planet.\n",
      "\n",
      "Let me know if you'd like the version adapted for a specific audience or platform!\n",
      "---------- TextMessage (presenter) ----------\n",
      "Here is a **refined and improved version** of your presentation slide based on your suggestions, with enhanced clarity, flow, and visual appeal:\n",
      "\n",
      "---\n",
      "\n",
      "**Slide 1: Title Slide**  \n",
      "**Title**: Climate Change: Facts and Urgency  \n",
      "**Subtitle**: Understanding the Science and the Need for Action  \n",
      "\n",
      "---\n",
      "\n",
      "**Slide 2: Opening Statement**  \n",
      "**Title**: Climate Change: A Long-Term Shift in the Earth’s Climate System  \n",
      "\n",
      "**Content**:  \n",
      "\"Climate change is a long-term shift in the Earth’s climate system, largely driven by human activities such as burning fossil fuels, deforestation, and industrial processes.\"\n",
      "\n",
      "---\n",
      "\n",
      "**Slide 3: Key Facts**  \n",
      "**Title**: Key Facts About Climate Change  \n",
      "\n",
      "**Content**:  \n",
      "(1) **Global warming** – a 1.1°C increase in Earth's average temperature over the past 100 years.  \n",
      "(2) **Melting winters** – rising sea levels and more frequent extreme weather events.  \n",
      "(3) **Increased frequency and intensity** of hurricanes, droughts, heatwaves, and cold events.  \n",
      "(4) **Ocean acidification** – threatening marine ecosystems.  \n",
      "(5) **Greenhouse gas emissions** – driven by industrial and transportation activities.  \n",
      "(6) **Impacts** – biodiversity loss, rising sea levels, and health risks from extreme weather.  \n",
      "\n",
      "---\n",
      "\n",
      "**Slide 4: Urgency to Address Climate Change**  \n",
      "**Title**: Urgency to Prevent Further Degradation of the Planet  \n",
      "\n",
      "**Content**:  \n",
      "\"These facts underscore the urgency of addressing climate change to prevent further degradation of the planet.\"\n",
      "\n",
      "---\n",
      "\n",
      "**Slide 5: Visual Suggestions (Optional)**  \n",
      "**Title**: Supporting Visuals  \n",
      "\n",
      "**Content**:  \n",
      "- A **graph** showing the 1.1°C increase over the past 100 years.  \n",
      "- A **diagram** comparing pre-industrial and current climate conditions.  \n",
      "\n",
      "---\n",
      "\n",
      "**Slide 6: Closing Statement**  \n",
      "**Title**: Thank You  \n",
      "\n",
      "**Content**:  \n",
      "Thank you for your attention.  \n",
      "\n",
      "---\n",
      "\n",
      "Let me know if you'd like this version tailored for a specific audience (e.g., students, professionals, or the public) or adapted for a platform like a website or presentation!\n",
      "---------- StopMessage (DiGraphStopAgent) ----------\n",
      "Digraph execution is complete\n"
     ]
    },
    {
     "data": {
      "text/plain": [
       "TaskResult(messages=[TextMessage(source='user', models_usage=None, metadata={}, content='Summarize key facts about climate change.', type='TextMessage'), TextMessage(source='researcher', models_usage=RequestUsage(prompt_tokens=35, completion_tokens=201), metadata={}, content=\"Climate change is a long-term change in the Earth's climate system, primarily driven by human activities such as burning fossil fuels, deforestation, and industrial processes. Key facts include:\\n\\n- **Global Warming**: The Earth's average temperature has risen, with the past 100 years showing a 1.1°C increase compared to pre-industrial times.\\n- **Melting Winters**: Sea levels rise, leading to more frequent and severe flooding and rising temperatures in polar regions.\\n- **Extreme Weather**: Increased frequency and intensity of hurricanes, droughts, heatwaves, and cold events are observed.\\n- **Ocean Acidification**: The oceans are acidifying, affecting marine life and ecosystems.\\n- **Greenhouse Gas Emissions**: Industrial and transportation emissions are the primary causes of climate change.\\n- **Consequences**: Impacts include loss of biodiversity, rising sea levels, and health risks from extreme weather.\\n\\nThese facts highlight the urgency of addressing climate change to prevent further degradation of the planet.\", type='TextMessage'), TextMessage(source='analyst', models_usage=RequestUsage(prompt_tokens=224, completion_tokens=609), metadata={}, content='Your summary is clear and effectively presents the key facts about climate change. However, there are a few areas where improvements can be made for a more precise and engaging presentation. Here are some suggestions:\\n\\n### 1. **Rephrase the Opening Statement**:\\n   - \"Climate change is a long-term shift in the Earth\\'s climate system, primarily driven by human activities such as burning fossil fuels, deforestation, and industrial processes.\"  \\n   → **Suggestion**: \"Climate change is a long-term shift in the Earth\\'s climate system, largely driven by human activities such as burning fossil fuels, deforestation, and industrial processes.\"\\n\\n### 2. **Clarify the Scope**:\\n   - \"Key facts include:...\"  \\n   → **Suggestion**: \"Key facts include: (1) Global warming, (2) Melting winters, (3) Extreme weather events, (4) Ocean acidification, (5) Greenhouse gas emissions, and (6) Impacts on biodiversity, sea levels, and human health.\"\\n\\n### 3. **Enhance the Flow**:\\n   - \"These facts highlight the urgency of addressing climate change to prevent further degradation of the planet.\"  \\n   → **Suggestion**: \"These facts underscore the urgency of addressing climate change to prevent further degradation of the planet.\"\\n\\n### 4. **Add Visual or Imagery (if applicable)**:\\n   - If you\\'re preparing a presentation or report, you could add a visual (like a chart or a diagram) to illustrate the data points, such as:\\n     - A graph showing the 1.1°C increase over the past 100 years.\\n     - A comparison between pre-industrial and current climate conditions.\\n\\n### 5. **Concise and Accurate Terminology**:\\n   - Ensure that all terms are correctly used and that the information is accurate. For example, \"melting winters\" refers to the rise in sea levels, not the melting of ice.\\n\\n### Final Version:\\n> Climate change is a long-term shift in the Earth\\'s climate system, largely driven by human activities such as burning fossil fuels, deforestation, and industrial processes. Key facts include:  \\n> (1) Global warming, which has caused a 1.1°C increase in Earth\\'s average temperature over the past 100 years.  \\n> (2) Melting winters, leading to rising sea levels and more frequent extreme weather events.  \\n> (3) Increased frequency and intensity of hurricanes, droughts, heatwaves, and cold events.  \\n> (4) Ocean acidification, which threatens marine ecosystems.  \\n> (5) Greenhouse gas emissions, with industrial and transportation activities being the primary drivers.  \\n> (6) Impacts such as biodiversity loss, rising sea levels, and health risks from extreme weather.  \\n> These facts highlight the urgency of addressing climate change to prevent further degradation of the planet.\\n\\nLet me know if you\\'d like the version adapted for a specific audience or platform!', type='TextMessage'), TextMessage(source='presenter', models_usage=RequestUsage(prompt_tokens=635, completion_tokens=456), metadata={}, content='Here is a **refined and improved version** of your presentation slide based on your suggestions, with enhanced clarity, flow, and visual appeal:\\n\\n---\\n\\n**Slide 1: Title Slide**  \\n**Title**: Climate Change: Facts and Urgency  \\n**Subtitle**: Understanding the Science and the Need for Action  \\n\\n---\\n\\n**Slide 2: Opening Statement**  \\n**Title**: Climate Change: A Long-Term Shift in the Earth’s Climate System  \\n\\n**Content**:  \\n\"Climate change is a long-term shift in the Earth’s climate system, largely driven by human activities such as burning fossil fuels, deforestation, and industrial processes.\"\\n\\n---\\n\\n**Slide 3: Key Facts**  \\n**Title**: Key Facts About Climate Change  \\n\\n**Content**:  \\n(1) **Global warming** – a 1.1°C increase in Earth\\'s average temperature over the past 100 years.  \\n(2) **Melting winters** – rising sea levels and more frequent extreme weather events.  \\n(3) **Increased frequency and intensity** of hurricanes, droughts, heatwaves, and cold events.  \\n(4) **Ocean acidification** – threatening marine ecosystems.  \\n(5) **Greenhouse gas emissions** – driven by industrial and transportation activities.  \\n(6) **Impacts** – biodiversity loss, rising sea levels, and health risks from extreme weather.  \\n\\n---\\n\\n**Slide 4: Urgency to Address Climate Change**  \\n**Title**: Urgency to Prevent Further Degradation of the Planet  \\n\\n**Content**:  \\n\"These facts underscore the urgency of addressing climate change to prevent further degradation of the planet.\"\\n\\n---\\n\\n**Slide 5: Visual Suggestions (Optional)**  \\n**Title**: Supporting Visuals  \\n\\n**Content**:  \\n- A **graph** showing the 1.1°C increase over the past 100 years.  \\n- A **diagram** comparing pre-industrial and current climate conditions.  \\n\\n---\\n\\n**Slide 6: Closing Statement**  \\n**Title**: Thank You  \\n\\n**Content**:  \\nThank you for your attention.  \\n\\n---\\n\\nLet me know if you\\'d like this version tailored for a specific audience (e.g., students, professionals, or the public) or adapted for a platform like a website or presentation!', type='TextMessage'), StopMessage(source='DiGraphStopAgent', models_usage=None, metadata={}, content='Digraph execution is complete', type='StopMessage')], stop_reason='Stop message received')"
      ]
     },
     "execution_count": 10,
     "metadata": {},
     "output_type": "execute_result"
    }
   ],
   "source": [
    "from autogen_agentchat.agents import AssistantAgent, MessageFilterAgent, MessageFilterConfig, PerSourceFilter\n",
    "from autogen_agentchat.teams import DiGraphBuilder, GraphFlow\n",
    "from autogen_agentchat.ui import Console\n",
    "\n",
    "# Create agents\n",
    "researcher = AssistantAgent(\n",
    "    \"researcher\", model_client=custom_model_client, system_message=\"Summarize key facts about climate change.\", \n",
    ")\n",
    "analyst = AssistantAgent(\"analyst\", model_client=custom_model_client, system_message=\"Review the summary and suggest improvements.\")\n",
    "presenter = AssistantAgent(\n",
    "    \"presenter\", model_client=custom_model_client, system_message=\"Prepare a presentation slide based on the final summary.\"\n",
    ")\n",
    "\n",
    "# Apply message filtering\n",
    "filtered_analyst = MessageFilterAgent(\n",
    "    name=\"analyst\",\n",
    "    wrapped_agent=analyst,\n",
    "    filter=MessageFilterConfig(per_source=[PerSourceFilter(source=\"researcher\", position=\"last\", count=1)]),\n",
    ")\n",
    "\n",
    "filtered_presenter = MessageFilterAgent(\n",
    "    name=\"presenter\",\n",
    "    wrapped_agent=presenter,\n",
    "    filter=MessageFilterConfig(per_source=[PerSourceFilter(source=\"analyst\", position=\"last\", count=1)]),\n",
    ")\n",
    "\n",
    "# Build the flow\n",
    "builder = DiGraphBuilder()\n",
    "builder.add_node(researcher).add_node(filtered_analyst).add_node(filtered_presenter)\n",
    "builder.add_edge(researcher, filtered_analyst).add_edge(filtered_analyst, filtered_presenter)\n",
    "\n",
    "# Create the flow\n",
    "flow = GraphFlow(\n",
    "    participants=builder.get_participants(),\n",
    "    graph=builder.build(),\n",
    ")\n",
    "\n",
    "# Run the flow\n",
    "await Console(flow.run_stream(task=\"Summarize key facts about climate change.\"))\n"
   ]
  },
  {
   "cell_type": "code",
   "execution_count": 11,
   "id": "8b3c84f7",
   "metadata": {},
   "outputs": [],
   "source": [
    "from typing import Literal\n",
    "from pydantic import BaseModel\n",
    "\n",
    "class AgentResponse(BaseModel):\n",
    "    thoughts: str\n",
    "    response: Literal[\"happy\", \"sad\", \"neutral\"]"
   ]
  },
  {
   "cell_type": "code",
   "execution_count": 12,
   "id": "c6176dfe",
   "metadata": {},
   "outputs": [],
   "source": [
    "function_calling_agent = AssistantAgent(\n",
    "    name=\"function_calling_agent\",\n",
    "    model_client=custom_model_client,\n",
    "    system_message=\"Categorize the input as happy, sad, or neutral following json format. Use provided tools.\",\n",
    "    tools=[AgentResponse],\n",
    ")"
   ]
  },
  {
   "cell_type": "code",
   "execution_count": 13,
   "id": "fe543b71",
   "metadata": {},
   "outputs": [
    {
     "name": "stdout",
     "output_type": "stream",
     "text": [
      "---------- TextMessage (user) ----------\n",
      "I wanna run in a field of daisies and eat candyy!!!\n",
      "---------- TextMessage (function_calling_agent) ----------\n",
      "{\n",
      "  \"type\": \"happy\"\n",
      "}\n"
     ]
    },
    {
     "data": {
      "text/plain": [
       "TaskResult(messages=[TextMessage(source='user', models_usage=None, metadata={}, content='I wanna run in a field of daisies and eat candyy!!!', type='TextMessage'), TextMessage(source='function_calling_agent', models_usage=RequestUsage(prompt_tokens=52, completion_tokens=10), metadata={}, content='{\\n  \"type\": \"happy\"\\n}', type='TextMessage')], stop_reason=None)"
      ]
     },
     "execution_count": 13,
     "metadata": {},
     "output_type": "execute_result"
    }
   ],
   "source": [
    "await Console(function_calling_agent.run_stream(task=\"I wanna run in a field of daisies and eat candyy!!!\"))\n"
   ]
  },
  {
   "cell_type": "code",
   "execution_count": null,
   "id": "ac6ff385",
   "metadata": {},
   "outputs": [],
   "source": []
  }
 ],
 "metadata": {
  "kernelspec": {
   "display_name": ".venv",
   "language": "python",
   "name": "python3"
  },
  "language_info": {
   "codemirror_mode": {
    "name": "ipython",
    "version": 3
   },
   "file_extension": ".py",
   "mimetype": "text/x-python",
   "name": "python",
   "nbconvert_exporter": "python",
   "pygments_lexer": "ipython3",
   "version": "3.11.11"
  }
 },
 "nbformat": 4,
 "nbformat_minor": 5
}
